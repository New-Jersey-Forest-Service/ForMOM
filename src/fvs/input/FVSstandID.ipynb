{
 "cells": [
  {
   "cell_type": "code",
   "execution_count": null,
   "metadata": {
    "id": "fFa4OrJVLokq"
   },
   "outputs": [],
   "source": [
    "'''\n",
    "This script reads a CSV file containing Stand_CN's, and GroupAddFiles column from\n",
    "an FIA, FVS database and outputs the Stand_CN, Groups, and forest types into a\n",
    "blank ForestStandTypes table\n",
    "'''"
   ]
  },
  {
   "cell_type": "code",
   "execution_count": null,
   "metadata": {
    "colab": {
     "base_uri": "https://localhost:8080/"
    },
    "id": "wObM84Y6eVNY",
    "outputId": "6179cc7a-a99f-422a-8e2c-00de27f4f2d1"
   },
   "outputs": [
    {
     "name": "stdout",
     "output_type": "stream",
     "text": [
      "Mounted at gdrive\n"
     ]
    }
   ],
   "source": [
    "import sqlite3\n",
    "import csv\n",
    "from google.colab import drive\n",
    "drive.mount('gdrive')"
   ]
  },
  {
   "cell_type": "code",
   "execution_count": null,
   "metadata": {
    "id": "_Gy-YHqCjUts"
   },
   "outputs": [],
   "source": [
    "datapath = 'gdrive/My Drive/Colab Notebooks/data/'"
   ]
  },
  {
   "cell_type": "code",
   "execution_count": null,
   "metadata": {
    "id": "LwEGaqzhe_vj"
   },
   "outputs": [],
   "source": [
    "#Setting up SQLite Connections\n",
    "dbpath = datapath+'FIADB_NJ2021_ForestTypes.db'\n",
    "con = sqlite3.connect(dbpath)\n",
    "cursor = con.cursor()"
   ]
  },
  {
   "cell_type": "code",
   "execution_count": null,
   "metadata": {
    "id": "VQ_6EuGvfaES"
   },
   "outputs": [],
   "source": [
    "#Setting up CSV reader\n",
    "rpath = datapath+'forest_types_table.csv'\n",
    "rcsv = open(rpath)\n",
    "rdr = csv.reader(rcsv)"
   ]
  },
  {
   "cell_type": "code",
   "execution_count": null,
   "metadata": {
    "id": "4HrXLlHoJCuP"
   },
   "outputs": [],
   "source": [
    "#groupLine = 'All_FIA_Plots FIA_Inv_Yr=2015 FIA_Meas_Yr=2015 State=34 Inv_Kind=1 NatForest=n/a Owner=24 For_Type=167 Field_Type=409 StandSize=1 Variant=NE NumConds=Single'"
   ]
  },
  {
   "cell_type": "code",
   "execution_count": null,
   "metadata": {
    "id": "QMrMKp2cURZf"
   },
   "outputs": [],
   "source": [
    "#groupLine = 'All_FIA_Plots FIA_Inv_Yr=2015 FIA_Meas_Yr=2015 State=34 Inv_Kind=1 NatForest=n/a Owner=24 For_Type=520 Field_Type=503 StandSize=1 Variant=NE NumConds=Single'"
   ]
  },
  {
   "cell_type": "code",
   "execution_count": null,
   "metadata": {
    "id": "iWiUyaQPJOvE"
   },
   "outputs": [],
   "source": [
    "fortyp =''\n",
    "string = ''\n",
    "value = ''\n",
    "groupline =''\n",
    "typeFound = False\n",
    "firstline = True\n"
   ]
  },
  {
   "cell_type": "code",
   "execution_count": null,
   "metadata": {
    "colab": {
     "base_uri": "https://localhost:8080/"
    },
    "id": "DFDpXi8IjfHu",
    "outputId": "2ef314e8-5bb5-45e0-c921-5e5a3ffab84f"
   },
   "outputs": [
    {
     "data": {
      "text/plain": [
       "0"
      ]
     },
     "execution_count": 89,
     "metadata": {},
     "output_type": "execute_result"
    }
   ],
   "source": [
    "#reset csv iterator, if needed\n",
    "#rcsv.seek(0)"
   ]
  },
  {
   "cell_type": "code",
   "execution_count": null,
   "metadata": {
    "id": "gXchWp_Qichk"
   },
   "outputs": [],
   "source": [
    "for row in rdr:\n",
    "  if firstline:\n",
    "      firstline = False\n",
    "  else:\n",
    "    for character in row[1]:\n",
    "      string += character\n",
    "      if character == ' ':\n",
    "        if 'For_Type' in string:\n",
    "          #print(string)\n",
    "          fortyp = string[9:len(string)]\n",
    "          #print(fortyp)\n",
    "          insertQuery = '''INSERT INTO ForestStandTypes\n",
    "                              (STAND_CN, GROUPS, forest_types)\n",
    "                              VALUES('''+\"'\"+row[0]+\"'\"+','+\"'\"+row[1]+\"'\"+','+\"'\"+fortyp+\"'\"+');'\n",
    "          #print (insertQuery)\n",
    "          con.execute(insertQuery)\n",
    "          con.commit()\n",
    "        string = ''"
   ]
  },
  {
   "cell_type": "code",
   "execution_count": null,
   "metadata": {
    "id": "HQJAgpitt10_"
   },
   "outputs": [],
   "source": [
    "con.close()"
   ]
  }
 ],
 "metadata": {
  "colab": {
   "collapsed_sections": [],
   "name": "FVSstandID.ipynb",
   "provenance": []
  },
  "kernelspec": {
   "display_name": "Python 3 (ipykernel)",
   "language": "python",
   "name": "python3"
  },
  "language_info": {
   "codemirror_mode": {
    "name": "ipython",
    "version": 3
   },
   "file_extension": ".py",
   "mimetype": "text/x-python",
   "name": "python",
   "nbconvert_exporter": "python",
   "pygments_lexer": "ipython3",
   "version": "3.8.0"
  }
 },
 "nbformat": 4,
 "nbformat_minor": 1
}
